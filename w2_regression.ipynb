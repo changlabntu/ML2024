{
 "cells": [
  {
   "cell_type": "code",
   "execution_count": 139,
   "outputs": [],
   "source": [
    "# Import the necessary libraries\n",
    "from sklearn.linear_model import LinearRegression\n",
    "import numpy as np"
   ],
   "metadata": {
    "collapsed": false,
    "pycharm": {
     "name": "#%%\n"
    }
   }
  },
  {
   "cell_type": "markdown",
   "source": [],
   "metadata": {
    "collapsed": false,
    "pycharm": {
     "name": "#%% md\n"
    }
   }
  },
  {
   "cell_type": "code",
   "execution_count": 140,
   "outputs": [
    {
     "name": "stdout",
     "output_type": "stream",
     "text": [
      "Predicted dosage for 75 kg: 122.50 mg\n",
      "Probability of heart disease for 275 cholesterol: 1.00\n"
     ]
    }
   ],
   "source": [
    "# Difference between regression & classification\n",
    "weights = np.array([[60], [70], [80], [90], [100]])\n",
    "dosages = np.array([100, 115, 130, 145, 160])\n",
    "\n",
    "model = LinearRegression()\n",
    "model.fit(weights, dosages) # Predict dosage for a new patient weighing 75 kg\n",
    "\n",
    "new_weight = np.array([[75]])\n",
    "predicted_dosage = model.predict(new_weight)\n",
    "\n",
    "\n",
    "print(f\"Predicted dosage for 75 kg: {predicted_dosage[0]:.2f} mg\")\n",
    "\n",
    "# Output: ```Predicted dosage for 75 kg: 122.50 mg ```\n",
    "\n",
    "# Logistic Regression: Predicting presence of heart disease\n",
    "from sklearn.linear_model import LogisticRegression\n",
    "cholesterol = np.array([[150], [200], [250], [300], [350]])\n",
    "heart_disease = np.array([0, 0, 1, 1, 1])\n",
    "log_model = LogisticRegression()\n",
    "log_model.fit(cholesterol, heart_disease)\n",
    "\n",
    "# Predict heart disease for a new patient with cholesterol level 275\n",
    "new_cholesterol = np.array([[275]])\n",
    "predicted_prob = log_model.predict_proba(new_cholesterol)[0][1]\n",
    "\n",
    "print(f\"Probability of heart disease for 275 cholesterol: {predicted_prob:.2f}\")\n",
    "\n",
    "# Output: ```Probability of heart disease for 275 cholesterol: 0.73 ```"
   ],
   "metadata": {
    "collapsed": false,
    "pycharm": {
     "name": "#%%\n"
    }
   }
  },
  {
   "cell_type": "markdown",
   "source": [
    "### Code Block 2: likelihood of a good and a bad regression model ###"
   ],
   "metadata": {
    "collapsed": false,
    "pycharm": {
     "name": "#%% md\n"
    }
   }
  },
  {
   "cell_type": "code",
   "execution_count": 141,
   "outputs": [
    {
     "name": "stdout",
     "output_type": "stream",
     "text": [
      "good model coef and intercept: 1.5000000000000004 9.999999999999972\n",
      "setting the bad model with coeffciients slightly off as w=1.55 and b=9.5\n",
      "prob of the bad model: \n",
      "[0.17136859 0.11092083 0.06561581 0.03547459 0.0175283 ]\n",
      "prob of the good model: \n",
      "[0.39894228 0.39894228 0.39894228 0.39894228 0.39894228]\n"
     ]
    }
   ],
   "source": [
    "import numpy as np\n",
    "from sklearn.linear_model import LinearRegression\n",
    "from scipy.stats import norm\n",
    "# Data points\n",
    "weights = np.array([[60], [70], [80], [90], [100]])\n",
    "dosages = np.array([100, 115, 130, 145, 160])\n",
    "\n",
    "# Create and train the good model\n",
    "model_good = LinearRegression()\n",
    "model_good.fit(weights, dosages)\n",
    "print('good model coef and intercept: ' + str(model_good.coef_[0]) + ' ' + str(model_good.intercept_))\n",
    "# Create a bad model with random coefficients\n",
    "model_bad = LinearRegression()\n",
    "print('setting the bad model with coeffciients slightly off as w=1.55 and b=9.5')\n",
    "model_bad.coef_ = np.array([1.53])\n",
    "model_bad.intercept_ = np.array([9.5])\n",
    "# Predict dosages\n",
    "predictions_good = model_good.predict(weights)\n",
    "predictions_bad = model_bad.predict(weights)\n",
    "\n",
    "def calculate_probabilities(predictions, actual, std_dev):\n",
    "    return norm.pdf(actual - predictions, loc=0, scale=std_dev)\n",
    "\n",
    "probs_good = calculate_probabilities(predictions_good, dosages, 1)\n",
    "probs_bad = calculate_probabilities(predictions_bad, dosages, 1)\n",
    "\n",
    "\n",
    "print('prob of the bad model: ')\n",
    "print(probs_bad)\n",
    "print('prob of the good model: ')\n",
    "print(probs_good)"
   ],
   "metadata": {
    "collapsed": false,
    "pycharm": {
     "name": "#%%\n"
    }
   }
  },
  {
   "cell_type": "markdown",
   "source": [
    "### Code Block 3: log likelihood of the good and bad models"
   ],
   "metadata": {
    "collapsed": false,
    "pycharm": {
     "name": "#%% md\n"
    }
   }
  },
  {
   "cell_type": "markdown",
   "source": [],
   "metadata": {
    "collapsed": false,
    "pycharm": {
     "name": "#%% md\n"
    }
   }
  },
  {
   "cell_type": "code",
   "execution_count": 142,
   "outputs": [
    {
     "name": "stdout",
     "output_type": "stream",
     "text": [
      "\n",
      "Log probabilities for good model:\n",
      "[-0.91893853 -0.91893853 -0.91893853 -0.91893853 -0.91893853]\n",
      "\n",
      "Log probabilities for bad model:\n",
      "[-1.76393853 -2.19893853 -2.72393853 -3.33893853 -4.04393853]\n",
      "\n",
      "Log-likelihood for good model: -4.59\n",
      "Log-likelihood for bad model: -14.07\n"
     ]
    }
   ],
   "source": [
    "log_probs_good = np.log(probs_good)\n",
    "log_probs_bad = np.log(probs_bad)\n",
    "print(\"\\nLog probabilities for good model:\")\n",
    "print(log_probs_good)\n",
    "print(\"\\nLog probabilities for bad model:\")\n",
    "print(log_probs_bad)\n",
    "# Calculate sum of log probabilities (log-likelihood)\n",
    "log_likelihood_good = np.sum(log_probs_good)\n",
    "log_likelihood_bad = np.sum(log_probs_bad)\n",
    "print(f\"\\nLog-likelihood for good model: {log_likelihood_good:.2f}\")\n",
    "print(f\"Log-likelihood for bad model: {log_likelihood_bad:.2f}\")"
   ],
   "metadata": {
    "collapsed": false,
    "pycharm": {
     "name": "#%%\n"
    }
   }
  },
  {
   "cell_type": "markdown",
   "source": [
    "### Code Block 4: Gradient of the Parameters, b and w"
   ],
   "metadata": {
    "collapsed": false,
    "pycharm": {
     "name": "#%% md\n"
    }
   }
  },
  {
   "cell_type": "code",
   "execution_count": 143,
   "outputs": [
    {
     "name": "stdout",
     "output_type": "stream",
     "text": [
      "[-25 -30 -35 -40 -45]\n",
      "[0. 0. 0. 0. 0.]\n",
      "Parameter set 1:  w=2 b=5\n",
      "Loss: 1275.0\n",
      "Gradient dL / dw: 5600.0\n",
      "Gradient dL / db: 70.0\n",
      "Parameter set 2:  w=1.5 b=10\n",
      "Loss: 0.0\n",
      "Gradient dL / dw: -0.0\n",
      "Gradient dL / db: -0.0\n"
     ]
    }
   ],
   "source": [
    "import numpy as np\n",
    "# Sample data\n",
    "X = weights\n",
    "y = dosages\n",
    "\n",
    "# Two parameter sets\n",
    "w1, b1 = 2, 5 # (our initial guess)\n",
    "w2, b2 = 1.5, 10  # (the secret answer that we are trying to find)\n",
    "\n",
    "# Function to calculate predictions\n",
    "def predict(X, w, b):\n",
    "    return (w * X + b)[:,0]\n",
    "# Function to calculate Mean Squared Error (MSE) loss\n",
    "def mse_loss(y_true, y_pred):\n",
    "    return np.mean((y_true - y_pred) ** 2)\n",
    "# Function to calculate gradient of loss with respect to b\n",
    "\n",
    "def gradient_b(y_true, y_pred):\n",
    "    print(y_true - y_pred)\n",
    "    return -2 * np.mean(y_true - y_pred)\n",
    "\n",
    "def gradient_w(y_true, y_pred, X):\n",
    "    #print(y_true - y_pred)\n",
    "    #print(np.multiply(X, 0 * (y_true - y_pred)))\n",
    "    #return -2 * np.mean(np.multiply(X.T, (y_true - y_pred)))\n",
    "    return -2 * np.mean(X * (y_true - y_pred))\n",
    "\n",
    "\n",
    "# Calculate predictions, loss, and gradient for both parameter sets\n",
    "y_pred1 = predict(X, w1, b1)\n",
    "loss1 = mse_loss(y, y_pred1)\n",
    "grad_b1 = gradient_b(y, y_pred1)\n",
    "y_pred2 = predict(X, w2, b2)\n",
    "loss2 = mse_loss(y, y_pred2)\n",
    "grad_b2 = gradient_b(y, y_pred2)\n",
    "\n",
    "\n",
    "print('Parameter set 1:  ' + 'w=' + str(w1) + ' b=' + str(b1))\n",
    "print('Loss: ' + str(loss1))\n",
    "print('Gradient dL / dw: ' + str(gradient_w(y, y_pred1, X)))\n",
    "print('Gradient dL / db: ' + str(grad_b1))\n",
    "\n",
    "print('Parameter set 2:  ' + 'w=' + str(w2) + ' b=' + str(b2))\n",
    "print('Loss: ' + str(loss2))\n",
    "print('Gradient dL / dw: ' + str(gradient_w(y, y_pred2, X)))\n",
    "print('Gradient dL / db: ' + str(grad_b2))"
   ],
   "metadata": {
    "collapsed": false,
    "pycharm": {
     "name": "#%%\n"
    }
   }
  },
  {
   "cell_type": "code",
   "execution_count": 144,
   "outputs": [],
   "source": [
    "### Code Block 5: Log probabilities and sigmoid function"
   ],
   "metadata": {
    "collapsed": false,
    "pycharm": {
     "name": "#%%\n"
    }
   }
  },
  {
   "cell_type": "code",
   "execution_count": 145,
   "outputs": [
    {
     "data": {
      "text/plain": "<Figure size 432x216 with 1 Axes>",
      "image/png": "[encoded data removed]"
     },
     "metadata": {
      "needs_background": "light"
     },
     "output_type": "display_data"
    }
   ],
   "source": [
    "import numpy as np\n",
    "import matplotlib.pyplot as plt\n",
    "\n",
    "# Create probability values from 0 to 1 (excluding 0 and 1 to avoid infinity)\n",
    "p = np.linspace(0.001, 0.999, 1000)\n",
    "\n",
    "# Calculate logit values\n",
    "logit = np.log(p / (1 - p))\n",
    "\n",
    "# Create the plot\n",
    "plt.figure(figsize=(6, 3))\n",
    "\n",
    "# Plot logit\n",
    "plt.plot(p, logit, label='Logit', color='red')\n",
    "\n",
    "# Add labels and title\n",
    "plt.xlabel('Probability')\n",
    "plt.ylabel('logit')\n",
    "plt.title('Probability vs Logit Transformation')\n",
    "\n",
    "# Add grid for better readability\n",
    "plt.grid(True, linestyle='--', alpha=0.7)\n",
    "\n",
    "# Show the plot\n",
    "plt.show()\n"
   ],
   "metadata": {
    "collapsed": false,
    "pycharm": {
     "name": "#%%\n"
    }
   }
  },
  {
   "cell_type": "code",
   "execution_count": 146,
   "outputs": [
    {
     "data": {
      "text/plain": "<Figure size 432x216 with 1 Axes>",
      "image/png": "[encoded data removed]"
     },
     "metadata": {
      "needs_background": "light"
     },
     "output_type": "display_data"
    }
   ],
   "source": [
    "import numpy as np\n",
    "import matplotlib.pyplot as plt\n",
    "\n",
    "def sigmoid(x):\n",
    "    return 1 / (1 + np.exp(-x))\n",
    "\n",
    "# Create x values from -6 to 6\n",
    "x = np.linspace(-6, 6, 1000)\n",
    "\n",
    "# Calculate sigmoid values\n",
    "y_sigmoid = sigmoid(x)\n",
    "\n",
    "# Create the plot\n",
    "plt.figure(figsize=(6, 3))\n",
    "\n",
    "# Plot sigmoid\n",
    "plt.plot(x, y_sigmoid, label='Sigmoid', color='red')\n",
    "\n",
    "# Add labels and title\n",
    "plt.xlabel('X')\n",
    "plt.ylabel('Probability / Sigmoid(X)')\n",
    "plt.title('Probability vs Sigmoid Function')\n",
    "\n",
    "# Add grid for better readability\n",
    "plt.grid(True, linestyle='--', alpha=0.7)\n",
    "\n",
    "# Set x and y axis limits\n",
    "plt.xlim(-6, 6)\n",
    "plt.ylim(0, 1)\n",
    "\n",
    "# Show the plot\n",
    "plt.show()\n"
   ],
   "metadata": {
    "collapsed": false,
    "pycharm": {
     "name": "#%%\n"
    }
   }
  },
  {
   "cell_type": "code",
   "execution_count": 146,
   "outputs": [],
   "source": [],
   "metadata": {
    "collapsed": false,
    "pycharm": {
     "name": "#%%\n"
    }
   }
  }
 ],
 "metadata": {
  "kernelspec": {
   "display_name": "Python 3",
   "language": "python",
   "name": "python3"
  },
  "language_info": {
   "codemirror_mode": {
    "name": "ipython",
    "version": 2
   },
   "file_extension": ".py",
   "mimetype": "text/x-python",
   "name": "python",
   "nbconvert_exporter": "python",
   "pygments_lexer": "ipython2",
   "version": "2.7.6"
  }
 },
 "nbformat": 4,
 "nbformat_minor": 0
}