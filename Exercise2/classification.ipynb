{
 "cells": [
  {
   "cell_type": "markdown",
   "metadata": {
    "pycharm": {
     "name": "#%% md\n"
    }
   },
   "source": [
    "First, download medical_mnist.zip from Kaggle\n",
    "https://www.kaggle.com/datasets/andrewmvd/medical-mnist\n",
    "or from dropbox\n",
    "https://www.dropbox.com/scl/fi/puo3gd1wmnat5ggz2naih/mmnist.zip?rlkey=uhiyemgjg6xl67qt36fdkyuny&e=2&dl=0\n",
    "unzip the data to Exercise2 / mmnist/\n",
    "\n",
    "import all the helper functions"
   ]
  },
  {
   "cell_type": "code",
   "execution_count": 1,
   "metadata": {
    "jupyter": {
     "outputs_hidden": false
    },
    "pycharm": {
     "name": "#%%\n"
    }
   },
   "outputs": [
    {
     "name": "stderr",
     "output_type": "stream",
     "text": [
      "/Users/garychang/opt/anaconda3/envs/CourseML/lib/python3.8/site-packages/tqdm/auto.py:22: TqdmWarning: IProgress not found. Please update jupyter and ipywidgets. See https://ipywidgets.readthedocs.io/en/stable/user_install.html\n",
      "  from .autonotebook import tqdm as notebook_tqdm\n"
     ]
    }
   ],
   "source": [
    "from utils_mnist import *\n",
    "import numpy as np"
   ]
  },
  {
   "cell_type": "markdown",
   "source": [
    "Here, we defines a Trainer class that manages the training process for a machine learning model. The overall_loop method runs for a specified number of epochs, where each epoch consists of a training phase and a validation phase. During the training loop, the model processes batches of data, calculates the loss, and updates its parameters to improve performance. The validation loop similarly processes batches of data but only calculates the loss without updating the model, helping to assess how well the model generalizes to unseen data. At the end of each epoch, the average training and validation losses are printed, allowing you to monitor the model's progress over time."
   ],
   "metadata": {
    "collapsed": false,
    "pycharm": {
     "name": "#%% md\n"
    }
   }
  },
  {
   "cell_type": "code",
   "execution_count": 2,
   "outputs": [],
   "source": [
    "class Trainer():\n",
    "    def __init__(self, args, train_loader, validation_loader, model, loss_function, optimizer):\n",
    "        pass\n",
    "\n",
    "    def overall_loop(self):\n",
    "        for epoch in range(args['num_epochs']):\n",
    "            train_loss = self.training_loop(train_loader)  # do the training look\n",
    "            validation_loss = self.validation_loop(validation_loader) # do the validation loop\n",
    "            # print out the training and validation loss per epoch\n",
    "            print('Epoch [{}/{}], Train Loss: {:.4f}, Validation Loss: {:.4f}'\n",
    "                  .format(epoch + 1, args['num_epochs'],\n",
    "                          sum(train_loss) / len(train_loss), sum(validation_loss) / len(validation_loss)))\n",
    "\n",
    "    def training_loop(self, train_loader):\n",
    "        train_loss = []\n",
    "        for i, train_batch in enumerate(train_loader):  # get mini-bacthes from the train_loader\n",
    "            loss = self.training_step(train_batch) # get the train loss from the train_step\n",
    "        train_loss.append(loss.item()) # add the train_loss up\n",
    "        return train_loss\n",
    "\n",
    "    def validation_loop(self, validation_loader):\n",
    "        validation_loss = []\n",
    "        for i, validation_batch in enumerate(validation_loader):\n",
    "            loss = self.validation_step(validation_batch)\n",
    "        validation_loss.append(loss.item())\n",
    "        return validation_loss\n",
    "\n",
    "    def training_step(self, train_batch):\n",
    "        (images, labels) = train_batch\n",
    "        images = images.reshape(-1, args['img_size'])  # turn the 2D image to a 1D feature (flatten)\n",
    "\n",
    "        # Forward pass\n",
    "        outputs = model(images)  # get the model output\n",
    "        loss = loss_function(outputs, labels) # calculate the loss\n",
    "\n",
    "        # Magic section where we do optimization by backpropogation\n",
    "        optimizer.zero_grad()\n",
    "        loss.backward()\n",
    "        optimizer.step()\n",
    "        return loss\n",
    "\n",
    "    def validation_step(self, validation_batch):\n",
    "        (images, labels) = validation_batch\n",
    "        images = images.reshape(-1, args['img_size'])  # turn the 2D image to a 1D feature (flatten)\n",
    "\n",
    "        # Forward pass\n",
    "        outputs = model(images)  # get the model output\n",
    "        loss = loss_function(outputs, labels)  # calculate the loss\n",
    "\n",
    "        return loss"
   ],
   "metadata": {
    "collapsed": false,
    "pycharm": {
     "name": "#%%\n"
    }
   }
  },
  {
   "cell_type": "markdown",
   "metadata": {
    "pycharm": {
     "name": "#%% md\n"
    }
   },
   "source": [
    "define all the arguments (hyperparameters)"
   ]
  },
  {
   "cell_type": "markdown",
   "source": [
    "The get_arguments() function is defining a set of hyperparameters and configuration settings for a machine learning model. Here's what each part means:\n",
    "\n",
    "img_size: 64 * 64 = 4096. This suggests the input images are 64x64 pixels, flattened into a 1D array of 4096 elements.\n",
    "num_classes: 10. This indicates the model is designed for a classification task with 10 different classes.\n",
    "num_epochs: 50. The model will train for 50 complete passes through the entire dataset.\n",
    "batch_size: 16. During training, the data will be processed in batches of 16 samples at a time.\n",
    "learning_rate: 0.001. This is the step size at each iteration while moving toward a minimum of the loss function.\n",
    "model: 'logistic_regression'. This specifies which model architecture to use. The comment suggests you could also choose 'MLP' (Multi-Layer Perceptron) as an alternative."
   ],
   "metadata": {
    "collapsed": false,
    "pycharm": {
     "name": "#%% md\n"
    }
   }
  },
  {
   "cell_type": "code",
   "execution_count": 4,
   "outputs": [
    {
     "name": "stdout",
     "output_type": "stream",
     "text": [
      "{'img_size': 4096, 'num_classes': 10, 'num_epochs': 50, 'batch_size': 16, 'learning_rate': 0.001, 'model': 'logistic_regression'}\n"
     ]
    }
   ],
   "source": [
    "# arguments\n",
    "def get_arguments():\n",
    "    # Hyper-parameters\n",
    "    args = {'img_size': 64 * 64,\n",
    "            'num_classes': 10,\n",
    "            'num_epochs': 50,\n",
    "            'batch_size': 16,\n",
    "            'learning_rate': 0.001,\n",
    "            'model': 'logistic_regression'} # MLP or logistic_regression\n",
    "    return args\n",
    "\n",
    "args = get_arguments()\n",
    "print(args)"
   ],
   "metadata": {
    "collapsed": false,
    "pycharm": {
     "name": "#%%\n"
    }
   }
  },
  {
   "cell_type": "code",
   "execution_count": 5,
   "metadata": {
    "jupyter": {
     "outputs_hidden": false
    },
    "pycharm": {
     "name": "#%%\n"
    }
   },
   "outputs": [
    {
     "name": "stdout",
     "output_type": "stream",
     "text": [
      "data folder:  mmnist/\n",
      "length of all images: 42000\n",
      "length of all images: 16954\n",
      "Done with data preparation\n"
     ]
    }
   ],
   "source": [
    "# Medical MNIST dataset (images and labels)\n",
    "train_loader, validation_loader = get_medical_mnist(args=args)\n",
    "print('Done with data preparation')"
   ]
  },
  {
   "cell_type": "code",
   "execution_count": 6,
   "metadata": {
    "jupyter": {
     "outputs_hidden": false
    },
    "pycharm": {
     "name": "#%%\n"
    }
   },
   "outputs": [
    {
     "name": "stdout",
     "output_type": "stream",
     "text": [
      "Length of train dataset:\n",
      "42000\n",
      "Length of validation dataset:\n",
      "16954\n",
      "Length of train dataloader:\n",
      "2625\n",
      "Length of validation dataloader:\n",
      "1060\n",
      "Why is that?\n"
     ]
    }
   ],
   "source": [
    "print('Length of train dataset:')\n",
    "print(len(train_loader.dataset))\n",
    "print('Length of validation dataset:')\n",
    "print(len(validation_loader.dataset))\n",
    "print('Length of train dataloader:')\n",
    "print(len(train_loader))\n",
    "print('Length of validation dataloader:')\n",
    "print(len(validation_loader))\n",
    "print('Why is that?')"
   ]
  },
  {
   "cell_type": "markdown",
   "metadata": {
    "pycharm": {
     "name": "#%% md\n"
    }
   },
   "source": [
    "Let's look at some images"
   ]
  },
  {
   "cell_type": "code",
   "execution_count": 7,
   "metadata": {
    "jupyter": {
     "outputs_hidden": false
    },
    "pycharm": {
     "name": "#%%\n"
    }
   },
   "outputs": [
    {
     "data": {
      "text/plain": "<Figure size 1440x288 with 5 Axes>",
      "image/png": "[encoded data removed]"
     },
     "metadata": {
      "needs_background": "light"
     },
     "output_type": "display_data"
    }
   ],
   "source": [
    "some_index = np.random.randint(0, len(train_loader.dataset), 10)\n",
    "some_imgs = [train_loader.dataset.__getitem__(idx)[0] for idx in some_index]\n",
    "some_labels = [train_loader.dataset.__getitem__(idx)[1] for idx in some_index]\n",
    "\n",
    "show_examples(some_imgs[:5], some_labels[:5])"
   ]
  },
  {
   "cell_type": "code",
   "execution_count": 8,
   "metadata": {
    "jupyter": {
     "outputs_hidden": false
    },
    "pycharm": {
     "name": "#%%\n"
    }
   },
   "outputs": [
    {
     "name": "stdout",
     "output_type": "stream",
     "text": [
      "Using logistic regression\n"
     ]
    }
   ],
   "source": [
    "# get model\n",
    "if args['model'] == 'logistic_regression':\n",
    "    print('Using logistic regression')\n",
    "    model = nn.Linear(args['img_size'], args['num_classes'])\n",
    "elif args['model'] == 'MLP':\n",
    "    print('MLP')\n",
    "    model = MLP(dropout=0, hidden_1=512, hidden_2=512)"
   ]
  },
  {
   "cell_type": "code",
   "execution_count": 9,
   "metadata": {
    "jupyter": {
     "outputs_hidden": false
    },
    "pycharm": {
     "name": "#%%\n"
    }
   },
   "outputs": [],
   "source": [
    "# Loss and optimizer\n",
    "loss_function = nn.CrossEntropyLoss() # this combined the LogSoftmax and NLLLoss\n",
    "optimizer = torch.optim.SGD(model.parameters(), lr=args['learning_rate'])"
   ]
  },
  {
   "cell_type": "markdown",
   "metadata": {
    "pycharm": {
     "name": "#%% md\n"
    }
   },
   "source": [
    "Lets build the trainer together"
   ]
  },
  {
   "cell_type": "code",
   "execution_count": 10,
   "metadata": {
    "pycharm": {
     "name": "#%%\n"
    }
   },
   "outputs": [],
   "source": [
    "trainer = Trainer(args, train_loader, validation_loader, model, loss_function, optimizer)"
   ]
  },
  {
   "cell_type": "markdown",
   "metadata": {
    "pycharm": {
     "name": "#%% md\n"
    }
   },
   "source": [
    "Start the training!"
   ]
  },
  {
   "cell_type": "code",
   "execution_count": 11,
   "metadata": {
    "jupyter": {
     "outputs_hidden": false
    },
    "pycharm": {
     "name": "#%%\n"
    }
   },
   "outputs": [
    {
     "name": "stdout",
     "output_type": "stream",
     "text": [
      "Epoch [1/50], Train Loss: 0.2158, Validation Loss: 0.4985\n",
      "Epoch [2/50], Train Loss: 0.1602, Validation Loss: 0.4257\n",
      "Epoch [3/50], Train Loss: 0.0823, Validation Loss: 0.3752\n",
      "Epoch [4/50], Train Loss: 0.1954, Validation Loss: 0.3544\n",
      "Epoch [5/50], Train Loss: 0.1564, Validation Loss: 0.3499\n",
      "Epoch [6/50], Train Loss: 0.1893, Validation Loss: 0.3252\n",
      "Epoch [7/50], Train Loss: 0.0558, Validation Loss: 0.3159\n",
      "Epoch [8/50], Train Loss: 0.1103, Validation Loss: 0.3078\n",
      "Epoch [9/50], Train Loss: 0.0548, Validation Loss: 0.3069\n",
      "Epoch [10/50], Train Loss: 0.1042, Validation Loss: 0.2996\n",
      "Epoch [11/50], Train Loss: 0.1110, Validation Loss: 0.2874\n",
      "Epoch [12/50], Train Loss: 0.0236, Validation Loss: 0.2893\n",
      "Epoch [13/50], Train Loss: 0.0606, Validation Loss: 0.2737\n",
      "Epoch [14/50], Train Loss: 0.0531, Validation Loss: 0.2779\n",
      "Epoch [15/50], Train Loss: 0.0950, Validation Loss: 0.2654\n",
      "Epoch [16/50], Train Loss: 0.0697, Validation Loss: 0.2642\n",
      "Epoch [17/50], Train Loss: 0.0375, Validation Loss: 0.2618\n",
      "Epoch [18/50], Train Loss: 0.0619, Validation Loss: 0.2595\n",
      "Epoch [19/50], Train Loss: 0.0479, Validation Loss: 0.2541\n",
      "Epoch [20/50], Train Loss: 0.0234, Validation Loss: 0.2489\n",
      "Epoch [21/50], Train Loss: 0.0265, Validation Loss: 0.2493\n",
      "Epoch [22/50], Train Loss: 0.0952, Validation Loss: 0.2473\n",
      "Epoch [23/50], Train Loss: 0.0276, Validation Loss: 0.2423\n",
      "Epoch [24/50], Train Loss: 0.1875, Validation Loss: 0.2378\n",
      "Epoch [25/50], Train Loss: 0.1149, Validation Loss: 0.2356\n",
      "Epoch [26/50], Train Loss: 0.0372, Validation Loss: 0.2329\n",
      "Epoch [27/50], Train Loss: 0.0382, Validation Loss: 0.2229\n",
      "Epoch [28/50], Train Loss: 0.1455, Validation Loss: 0.2238\n",
      "Epoch [29/50], Train Loss: 0.0363, Validation Loss: 0.2186\n",
      "Epoch [30/50], Train Loss: 0.0789, Validation Loss: 0.2170\n",
      "Epoch [31/50], Train Loss: 0.0512, Validation Loss: 0.2174\n",
      "Epoch [32/50], Train Loss: 0.0621, Validation Loss: 0.2135\n",
      "Epoch [33/50], Train Loss: 0.0218, Validation Loss: 0.2074\n",
      "Epoch [34/50], Train Loss: 0.0081, Validation Loss: 0.2153\n",
      "Epoch [35/50], Train Loss: 0.0541, Validation Loss: 0.1983\n",
      "Epoch [36/50], Train Loss: 0.0316, Validation Loss: 0.2060\n",
      "Epoch [37/50], Train Loss: 0.0121, Validation Loss: 0.1985\n",
      "Epoch [38/50], Train Loss: 0.1110, Validation Loss: 0.1943\n",
      "Epoch [39/50], Train Loss: 0.0465, Validation Loss: 0.1951\n",
      "Epoch [40/50], Train Loss: 0.2221, Validation Loss: 0.1919\n",
      "Epoch [41/50], Train Loss: 0.0282, Validation Loss: 0.1922\n",
      "Epoch [42/50], Train Loss: 0.1269, Validation Loss: 0.1873\n",
      "Epoch [43/50], Train Loss: 0.0581, Validation Loss: 0.1866\n",
      "Epoch [44/50], Train Loss: 0.0389, Validation Loss: 0.1785\n",
      "Epoch [45/50], Train Loss: 0.0648, Validation Loss: 0.1812\n",
      "Epoch [46/50], Train Loss: 0.0168, Validation Loss: 0.1805\n",
      "Epoch [47/50], Train Loss: 0.0401, Validation Loss: 0.1721\n",
      "Epoch [48/50], Train Loss: 0.0300, Validation Loss: 0.1780\n",
      "Epoch [49/50], Train Loss: 0.1530, Validation Loss: 0.1747\n",
      "Epoch [50/50], Train Loss: 0.0214, Validation Loss: 0.1728\n"
     ]
    }
   ],
   "source": [
    "trainer.overall_loop()"
   ]
  },
  {
   "cell_type": "markdown",
   "metadata": {
    "pycharm": {
     "name": "#%% md\n"
    }
   },
   "source": [
    "Calculating validation accuracy"
   ]
  },
  {
   "cell_type": "code",
   "execution_count": 12,
   "metadata": {
    "pycharm": {
     "name": "#%%\n"
    }
   },
   "outputs": [
    {
     "name": "stdout",
     "output_type": "stream",
     "text": [
      "16572\n",
      "16954\n",
      "Accuracy of the model on the 10000 test images: 97.74684440250088 %\n"
     ]
    }
   ],
   "source": [
    "correct = 0\n",
    "total = 0\n",
    "for images, labels in validation_loader:\n",
    "    images = images.reshape(-1, args['img_size'])\n",
    "    outputs = model(images)\n",
    "    _, predicted = torch.max(outputs.data, 1)\n",
    "    total += labels.size(0)\n",
    "    correct += (predicted == labels).sum().item()\n",
    "print(correct)\n",
    "print(total)\n",
    "\n",
    "print('Accuracy of the model on the 10000 test images: {} %'.format(100 * correct / total))"
   ]
  },
  {
   "cell_type": "code",
   "execution_count": null,
   "metadata": {
    "pycharm": {
     "name": "#%%\n"
    }
   },
   "outputs": [],
   "source": []
  }
 ],
 "metadata": {
  "kernelspec": {
   "display_name": "Python 3",
   "language": "python",
   "name": "python3"
  },
  "language_info": {
   "codemirror_mode": {
    "name": "ipython",
    "version": 3
   },
   "file_extension": ".py",
   "mimetype": "text/x-python",
   "name": "python",
   "nbconvert_exporter": "python",
   "pygments_lexer": "ipython3",
   "version": "3.8.13"
  }
 },
 "nbformat": 4,
 "nbformat_minor": 4
}