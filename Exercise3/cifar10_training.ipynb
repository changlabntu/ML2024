{
 "nbformat": 4,
 "nbformat_minor": 0,
 "metadata": {
  "colab": {
   "provenance": [],
   "gpuType": "T4"
  },
  "kernelspec": {
   "name": "python3",
   "display_name": "Python 3 (ipykernel)",
   "language": "python"
  },
  "language_info": {
   "name": "python"
  },
  "accelerator": "GPU"
 },
 "cells": [
  {
   "metadata": {
    "ExecuteTime": {
     "end_time": "2024-10-23T03:54:00.720346Z",
     "start_time": "2024-10-23T03:53:57.611529Z"
    },
    "colab": {
     "base_uri": "https://localhost:8080/"
    },
    "id": "www3daPwhYCN",
    "outputId": "a54f626b-63de-47b9-db23-1a72dd0c649e",
    "pycharm": {
     "name": "#%%\n"
    }
   },
   "cell_type": "code",
   "source": [
    "!pip install torchsummary\n",
    "!pip install ipdb"
   ],
   "outputs": [
    {
     "output_type": "stream",
     "name": "stdout",
     "text": [
      "Requirement already satisfied: torchsummary in /usr/local/lib/python3.10/dist-packages (1.5.1)\n",
      "Collecting ipdb\n",
      "  Downloading ipdb-0.13.13-py3-none-any.whl.metadata (14 kB)\n",
      "Requirement already satisfied: ipython>=7.31.1 in /usr/local/lib/python3.10/dist-packages (from ipdb) (7.34.0)\n",
      "Requirement already satisfied: tomli in /usr/local/lib/python3.10/dist-packages (from ipdb) (2.0.2)\n",
      "Requirement already satisfied: decorator in /usr/local/lib/python3.10/dist-packages (from ipdb) (4.4.2)\n",
      "Requirement already satisfied: setuptools>=18.5 in /usr/local/lib/python3.10/dist-packages (from ipython>=7.31.1->ipdb) (75.1.0)\n",
      "Collecting jedi>=0.16 (from ipython>=7.31.1->ipdb)\n",
      "  Downloading jedi-0.19.1-py2.py3-none-any.whl.metadata (22 kB)\n",
      "Requirement already satisfied: pickleshare in /usr/local/lib/python3.10/dist-packages (from ipython>=7.31.1->ipdb) (0.7.5)\n",
      "Requirement already satisfied: traitlets>=4.2 in /usr/local/lib/python3.10/dist-packages (from ipython>=7.31.1->ipdb) (5.7.1)\n",
      "Requirement already satisfied: prompt-toolkit!=3.0.0,!=3.0.1,<3.1.0,>=2.0.0 in /usr/local/lib/python3.10/dist-packages (from ipython>=7.31.1->ipdb) (3.0.48)\n",
      "Requirement already satisfied: pygments in /usr/local/lib/python3.10/dist-packages (from ipython>=7.31.1->ipdb) (2.18.0)\n",
      "Requirement already satisfied: backcall in /usr/local/lib/python3.10/dist-packages (from ipython>=7.31.1->ipdb) (0.2.0)\n",
      "Requirement already satisfied: matplotlib-inline in /usr/local/lib/python3.10/dist-packages (from ipython>=7.31.1->ipdb) (0.1.7)\n",
      "Requirement already satisfied: pexpect>4.3 in /usr/local/lib/python3.10/dist-packages (from ipython>=7.31.1->ipdb) (4.9.0)\n",
      "Requirement already satisfied: parso<0.9.0,>=0.8.3 in /usr/local/lib/python3.10/dist-packages (from jedi>=0.16->ipython>=7.31.1->ipdb) (0.8.4)\n",
      "Requirement already satisfied: ptyprocess>=0.5 in /usr/local/lib/python3.10/dist-packages (from pexpect>4.3->ipython>=7.31.1->ipdb) (0.7.0)\n",
      "Requirement already satisfied: wcwidth in /usr/local/lib/python3.10/dist-packages (from prompt-toolkit!=3.0.0,!=3.0.1,<3.1.0,>=2.0.0->ipython>=7.31.1->ipdb) (0.2.13)\n",
      "Downloading ipdb-0.13.13-py3-none-any.whl (12 kB)\n",
      "Downloading jedi-0.19.1-py2.py3-none-any.whl (1.6 MB)\n",
      "\u001B[2K   \u001B[90m━━━━━━━━━━━━━━━━━━━━━━━━━━━━━━━━━━━━━━━━\u001B[0m \u001B[32m1.6/1.6 MB\u001B[0m \u001B[31m19.7 MB/s\u001B[0m eta \u001B[36m0:00:00\u001B[0m\n",
      "\u001B[?25hInstalling collected packages: jedi, ipdb\n",
      "Successfully installed ipdb-0.13.13 jedi-0.19.1\n"
     ]
    }
   ],
   "execution_count": 1
  },
  {
   "cell_type": "code",
   "source": [
    "import torch\n",
    "import torch.nn as nn\n",
    "from torch.utils.data import random_split, DataLoader\n",
    "import torchvision\n",
    "import torchvision.transforms as transforms\n",
    "from torchvision import models\n",
    "from torchvision.datasets import CIFAR10\n",
    "from torchsummary import summary\n",
    "import numpy as np\n",
    "import os\n",
    "import tensorboard\n",
    "import ipdb\n",
    "import torch.optim as optim\n",
    "\n",
    "def shuffle_minibatch(x, y):\n",
    "    assert x.size(0)== y.size(0)\n",
    "    indices = torch.randperm(x.size(0))\n",
    "    return x[indices], y[indices]\n",
    "\n",
    "def get_accuracy(preds, actual):\n",
    "    assert len(preds) == len(actual)\n",
    "\n",
    "    total = len(actual)\n",
    "    _, predicted = torch.max(preds.data, axis=1)\n",
    "    correct = (predicted == actual).sum().item()\n",
    "    return correct / total"
   ],
   "metadata": {
    "id": "MCtwPhxqf37P",
    "pycharm": {
     "name": "#%%\n"
    },
    "ExecuteTime": {
     "end_time": "2024-10-23T03:54:00.731912Z",
     "start_time": "2024-10-23T03:54:00.723998Z"
    }
   },
   "outputs": [],
   "execution_count": 2
  },
  {
   "cell_type": "markdown",
   "source": [
    "# Load Data"
   ],
   "metadata": {
    "id": "-fNFbFQ7hPq6",
    "pycharm": {
     "name": "#%% md\n"
    }
   }
  },
  {
   "cell_type": "code",
   "source": [
    "transform = transforms.Compose(\n",
    "    [transforms.ToTensor(),\n",
    "     transforms.Normalize((0.5, 0.5, 0.5), (0.5, 0.5, 0.5))])\n",
    "\n",
    "trainset = CIFAR10(root='./cifar10_data', train=True, download=True, transform=transform)\n",
    "train_size = int(0.9 * len(trainset))\n",
    "val_size = len(trainset) - train_size\n",
    "train_subset, val_subset = random_split(trainset, [train_size, val_size])\n",
    "trainloader = DataLoader(train_subset, batch_size=256, shuffle=True, num_workers=2)\n",
    "valloader = DataLoader(val_subset, batch_size=256, shuffle=False, num_workers=2)\n",
    "\n",
    "testset = torchvision.datasets.CIFAR10(root='./cifar10_data', train=False, download=True, transform=transform)\n",
    "testloader = DataLoader(testset, batch_size=1, shuffle=False, num_workers=2)\n",
    "\n",
    "cifar10_labels = {\n",
    "    0: 'airplane',\n",
    "    1: 'automobile',\n",
    "    2: 'bird',\n",
    "    3: 'cat',\n",
    "    4: 'deer',\n",
    "    5: 'dog',\n",
    "    6: 'frog',\n",
    "    7: 'horse',\n",
    "    8: 'ship',\n",
    "    9: 'truck'\n",
    "}"
   ],
   "metadata": {
    "colab": {
     "base_uri": "https://localhost:8080/"
    },
    "id": "JPQyVn6vhPTZ",
    "outputId": "57cff782-d520-4cee-bd84-2940b402659d",
    "pycharm": {
     "name": "#%%\n"
    },
    "ExecuteTime": {
     "end_time": "2024-10-23T03:54:01.944477Z",
     "start_time": "2024-10-23T03:54:00.733862Z"
    }
   },
   "outputs": [
    {
     "output_type": "stream",
     "name": "stdout",
     "text": [
      "Downloading https://www.cs.toronto.edu/~kriz/cifar-10-python.tar.gz to ./cifar10_data/cifar-10-python.tar.gz\n"
     ]
    },
    {
     "output_type": "stream",
     "name": "stderr",
     "text": [
      "100%|██████████| 170498071/170498071 [00:04<00:00, 34784537.96it/s]\n"
     ]
    },
    {
     "output_type": "stream",
     "name": "stdout",
     "text": [
      "Extracting ./cifar10_data/cifar-10-python.tar.gz to ./cifar10_data\n",
      "Files already downloaded and verified\n"
     ]
    }
   ],
   "execution_count": 3
  },
  {
   "cell_type": "code",
   "source": [
    "data, label = trainset.__getitem__(1)\n",
    "print('shape of the image data:    ' + str(data.shape))"
   ],
   "metadata": {
    "colab": {
     "base_uri": "https://localhost:8080/"
    },
    "id": "iY4xqJtYhMUH",
    "outputId": "f4b25cbd-bfe5-4704-b628-f4b13e068e6a",
    "pycharm": {
     "name": "#%%\n"
    },
    "ExecuteTime": {
     "end_time": "2024-10-23T03:54:01.950405Z",
     "start_time": "2024-10-23T03:54:01.946425Z"
    }
   },
   "outputs": [
    {
     "output_type": "stream",
     "name": "stdout",
     "text": [
      "shape of the image data:    torch.Size([3, 32, 32])\n"
     ]
    }
   ],
   "execution_count": 63
  },
  {
   "cell_type": "markdown",
   "source": [
    "# Display some image"
   ],
   "metadata": {
    "id": "2y6tGijUjZ4T",
    "pycharm": {
     "name": "#%% md\n"
    }
   }
  },
  {
   "cell_type": "code",
   "metadata": {
    "colab": {
     "base_uri": "https://localhost:8080/",
     "height": 424
    },
    "id": "0jGCJEeAfQFM",
    "outputId": "3644e1ae-c30b-4714-ff4c-0fa287398b81",
    "pycharm": {
     "name": "#%%\n"
    },
    "ExecuteTime": {
     "end_time": "2024-10-23T03:54:02.170674Z",
     "start_time": "2024-10-23T03:54:01.951262Z"
    }
   },
   "source": [
    "import matplotlib.pyplot as plt\n",
    "import numpy as np\n",
    "\n",
    "# functions to show an image\n",
    "def show_img(img):\n",
    "    img = img / 2 + 0.5 # unnormalize\n",
    "    npimg = img.numpy()\n",
    "    plt.imshow(np.transpose(npimg, (1, 2, 0)))\n",
    "    plt.axis('off')\n",
    "    plt.show()\n",
    "\n",
    "# get some random training images\n",
    "dataiter = iter(trainloader)\n",
    "images, labels = next(dataiter)\n",
    "# show images\n",
    "show_img(torchvision.utils.make_grid(images[0]))\n",
    "# print labels\n",
    "# mapped_labels = [cifar10_labels[label.item()] for label in labels]\n",
    "mapped_labels = [cifar10_labels[labels[0].item()]]\n",
    "print(mapped_labels)"
   ],
   "outputs": [
    {
     "output_type": "display_data",
     "data": {
      "text/plain": [
       "<Figure size 640x480 with 1 Axes>"
      ],
      "image/png": "[encoded data removed]"
     },
     "metadata": {}
    },
    {
     "output_type": "stream",
     "name": "stdout",
     "text": [
      "['ship']\n"
     ]
    }
   ],
   "execution_count": 64
  },
  {
   "cell_type": "markdown",
   "source": [
    "# Define a Convolutional Neural Network"
   ],
   "metadata": {
    "id": "BBcxtx4Tnf61",
    "pycharm": {
     "name": "#%% md\n"
    }
   }
  },
  {
   "cell_type": "code",
   "source": [
    "class My_CNN(nn.Module):\n",
    "    def __init__(self):\n",
    "        super(My_CNN, self).__init__()\n",
    "\n",
    "        # Manually define the feature layers\n",
    "        self.features = nn.Sequential(\n",
    "            nn.Conv2d(3, 64, kernel_size=3, padding=1),  # layer 0\n",
    "            nn.ReLU(inplace=True),  # layer 1\n",
    "            nn.MaxPool2d(kernel_size=2, stride=2),  # layer 2\n",
    "            nn.Conv2d(64, 128, kernel_size=3, padding=1),  # layer 3\n",
    "            nn.ReLU(inplace=True),  # layer 4\n",
    "            nn.MaxPool2d(kernel_size=2, stride=2),  # layer 5\n",
    "            nn.Conv2d(128, 256, kernel_size=3, padding=1),  # layer 6\n",
    "            nn.ReLU(inplace=True)  # layer 7\n",
    "        )\n",
    "\n",
    "        self.fc = nn.Linear(256, 10)\n",
    "        self.pool = nn.AdaptiveAvgPool2d((1, 1))\n",
    "\n",
    "        for param in self.features.parameters():\n",
    "            param.requires_grad = True\n",
    "\n",
    "        # Load pretrained weights\n",
    "        self.load_pretrained_weights()\n",
    "\n",
    "    def load_pretrained_weights(self):\n",
    "        # Load the pretrained VGG11 model\n",
    "        vgg11 = torchvision.models.vgg11(pretrained=True)\n",
    "        vgg_state_dict = vgg11.state_dict()\n",
    "\n",
    "        # CAN YOU MANUALLY LOAD THE PRE-TRAINED VGG11 WEIGHT INTO OUR MODEL FOR FINE-TUNING?\n",
    "        # THE FEATURE EXTRACTORS OF VGG11 HAVE THIS FORMAT\n",
    "        # FOR EXAMPLE, THE WEIGHT AND BIAS OF THE #8 LAYER OF VGG11 WILL BE AT\n",
    "        # vgg_state_dict['features.8.weight'] and vgg_state_dict['features.8.bias']\n",
    "        # ON THE OTHER END, THE Nth WEIGHT AND BIAS OF OUR MODEL WILL BE AT\n",
    "        # self.features[N].weight.data & self.features[B].bias.data\n",
    "\n",
    "        #(0): Conv2d(3, 64, kernel_size=(3, 3), stride=(1, 1), padding=(1, 1))\n",
    "        #(1): ReLU(inplace=True)\n",
    "        #(2): MaxPool2d(kernel_size=2, stride=2, padding=0, dilation=1, ceil_mode=False)\n",
    "        #(3): Conv2d(64, 128, kernel_size=(3, 3), stride=(1, 1), padding=(1, 1))\n",
    "        #(4): ReLU(inplace=True)\n",
    "        #(5): MaxPool2d(kernel_size=2, stride=2, padding=0, dilation=1, ceil_mode=False)\n",
    "        #(6): Conv2d(128, 256, kernel_size=(3, 3), stride=(1, 1), padding=(1, 1))\n",
    "        #(7): ReLU(inplace=True)\n",
    "        #(8): Conv2d(256, 256, kernel_size=(3, 3), stride=(1, 1), padding=(1, 1))\n",
    "        #(9): ReLU(inplace=True)\n",
    "        #(10): MaxPool2d(kernel_size=2, stride=2, padding=0, dilation=1, ceil_mode=False)\n",
    "        #(11): Conv2d(256, 512, kernel_size=(3, 3), stride=(1, 1), padding=(1, 1))\n",
    "        #(12): ReLU(inplace=True)\n",
    "        #(13): Conv2d(512, 512, kernel_size=(3, 3), stride=(1, 1), padding=(1, 1))\n",
    "        #(14): ReLU(inplace=True)\n",
    "        #(15): MaxPool2d(kernel_size=2, stride=2, padding=0, dilation=1, ceil_mode=False)\n",
    "        #(16): Conv2d(512, 512, kernel_size=(3, 3), stride=(1, 1), padding=(1, 1))\n",
    "        #(17): ReLU(inplace=True)\n",
    "        #(18): Conv2d(512, 512, kernel_size=(3, 3), stride=(1, 1), padding=(1, 1))\n",
    "        #(19): ReLU(inplace=True)\n",
    "        #(20): MaxPool2d(kernel_size=2, stride=2, padding=0, dilation=1, ceil_mode=False)\n",
    "\n",
    "        # Manually load each conv layer's weights and bias\n",
    "        ######## YOUR CODE HERE. ########\n",
    "        self.features[0].weight.data = ????\n",
    "        ######## YOUR CODE HERE. ########\n",
    "\n",
    "    def forward(self, x):\n",
    "        x = self.features(x)\n",
    "        x = self.pool(x)[:, :, 0, 0]\n",
    "        x = self.fc(x)\n",
    "        return x"
   ],
   "metadata": {
    "id": "HkCaUzLCjg6-",
    "pycharm": {
     "name": "#%%\n"
    },
    "ExecuteTime": {
     "end_time": "2024-10-23T03:54:02.184501Z",
     "start_time": "2024-10-23T03:54:02.173627Z"
    }
   },
   "outputs": [],
   "execution_count": 65
  },
  {
   "cell_type": "code",
   "source": [
    "device = torch.device(\"cuda:0\" if torch.cuda.is_available() else \"cpu\")\n",
    "net = My_CNN().to(device)\n",
    "# Print summary of our model\n",
    "summary(net, input_size=(3, 32, 32))\n",
    "criterion = nn.CrossEntropyLoss()\n",
    "optimizer = optim.SGD(net.parameters(), lr=0.05, momentum=0.9)\n",
    "print(optimizer)"
   ],
   "metadata": {
    "colab": {
     "base_uri": "https://localhost:8080/"
    },
    "id": "vrl_QnRapUDv",
    "outputId": "24bd7df5-e1c4-4a09-bb8c-3e89818e3d1c",
    "pycharm": {
     "name": "#%%\n"
    },
    "ExecuteTime": {
     "end_time": "2024-10-23T03:54:03.151939Z",
     "start_time": "2024-10-23T03:54:02.186497Z"
    }
   },
   "outputs": [
    {
     "output_type": "stream",
     "name": "stdout",
     "text": [
      "----------------------------------------------------------------\n",
      "        Layer (type)               Output Shape         Param #\n",
      "================================================================\n",
      "            Conv2d-1           [-1, 64, 32, 32]           1,792\n",
      "              ReLU-2           [-1, 64, 32, 32]               0\n",
      "         MaxPool2d-3           [-1, 64, 16, 16]               0\n",
      "            Conv2d-4          [-1, 128, 16, 16]          73,856\n",
      "              ReLU-5          [-1, 128, 16, 16]               0\n",
      "         MaxPool2d-6            [-1, 128, 8, 8]               0\n",
      "            Conv2d-7            [-1, 256, 8, 8]         295,168\n",
      "              ReLU-8            [-1, 256, 8, 8]               0\n",
      " AdaptiveAvgPool2d-9            [-1, 256, 1, 1]               0\n",
      "           Linear-10                   [-1, 10]           2,570\n",
      "================================================================\n",
      "Total params: 373,386\n",
      "Trainable params: 373,386\n",
      "Non-trainable params: 0\n",
      "----------------------------------------------------------------\n",
      "Input size (MB): 0.01\n",
      "Forward/backward pass size (MB): 1.94\n",
      "Params size (MB): 1.42\n",
      "Estimated Total Size (MB): 3.38\n",
      "----------------------------------------------------------------\n",
      "SGD (\n",
      "Parameter Group 0\n",
      "    dampening: 0\n",
      "    differentiable: False\n",
      "    foreach: None\n",
      "    fused: None\n",
      "    lr: 0.05\n",
      "    maximize: False\n",
      "    momentum: 0.9\n",
      "    nesterov: False\n",
      "    weight_decay: 0\n",
      ")\n"
     ]
    }
   ],
   "execution_count": 69
  },
  {
   "cell_type": "markdown",
   "source": [
    "# Defining a Loss Function and optimizer"
   ],
   "metadata": {
    "id": "ahbZZPv7pXyN",
    "pycharm": {
     "name": "#%% md\n"
    }
   }
  },
  {
   "cell_type": "markdown",
   "source": [
    "# Training our model"
   ],
   "metadata": {
    "id": "r5oOjWOUsQJG",
    "pycharm": {
     "name": "#%% md\n"
    }
   }
  },
  {
   "cell_type": "code",
   "source": [
    "EPOCHS = 30\n",
    "CUTMIX_ALPHA = 1.0\n",
    "W, H = 32, 32\n",
    "print(EPOCHS)"
   ],
   "metadata": {
    "id": "Y-paq018w750",
    "pycharm": {
     "name": "#%%\n"
    },
    "ExecuteTime": {
     "end_time": "2024-10-23T03:54:03.179432Z",
     "start_time": "2024-10-23T03:54:03.174163Z"
    },
    "colab": {
     "base_uri": "https://localhost:8080/"
    },
    "outputId": "4b9a2bf5-31de-45c7-e20f-45ecee69bb55"
   },
   "outputs": [
    {
     "output_type": "stream",
     "name": "stdout",
     "text": [
      "20\n"
     ]
    }
   ],
   "execution_count": 70
  },
  {
   "cell_type": "code",
   "source": [
    "def save_checkpoint(state, filename=\"checkpoint.pth\"):\n",
    "    print(f\"Saving checkpoint to {filename} ...\")\n",
    "    torch.save(state, filename)\n",
    "\n",
    "checkpoint_dir = './checkpoints'\n",
    "if not os.path.exists(checkpoint_dir):\n",
    "    os.makedirs(checkpoint_dir)\n",
    "\n",
    "train_loss_list, train_acc_list, val_loss_list, val_acc_list = [], [], [], []\n",
    "best_val_acc = 0\n",
    "\n",
    "\n",
    "for epoch in range(EPOCHS):\n",
    "    net.train()  # Set model to training mode\n",
    "    total_steps = len(trainloader)\n",
    "    running_loss = 0.0\n",
    "    running_acc = 0.0\n",
    "\n",
    "    for i, (x_train, y_train) in enumerate(trainloader):\n",
    "        x_train = x_train.to(device)\n",
    "        y_train = y_train.to(device)\n",
    "\n",
    "        # Forward pass\n",
    "        y_preds = net(x_train)\n",
    "\n",
    "        # Compute loss\n",
    "        loss = criterion(y_preds, y_train)\n",
    "\n",
    "        running_loss += loss.item()\n",
    "\n",
    "        # Backpropagation and optimization\n",
    "        optimizer.zero_grad()\n",
    "        loss.backward()\n",
    "        optimizer.step()\n",
    "\n",
    "        # Compute training accuracy\n",
    "        train_acc = get_accuracy(y_preds, y_train)\n",
    "        running_acc += train_acc\n",
    "\n",
    "    # At the end of each epoch, calculate the average loss and accuracy\n",
    "    avg_train_loss = running_loss / total_steps\n",
    "    avg_train_acc = running_acc / total_steps\n",
    "    train_loss_list.append(avg_train_loss)\n",
    "    train_acc_list.append(avg_train_acc)\n",
    "\n",
    "    # Validation phase\n",
    "    net.eval()  # Set model to evaluation mode\n",
    "    val_loss = 0.0\n",
    "    val_acc_total = 0\n",
    "\n",
    "    # We'll use the same DataLoader structure as training,\n",
    "    # but when evaluating we don't optimize - which means no gradients needed.\n",
    "    # Make sure your model knows it's in evaluation mode, and remember to track\n",
    "    # those metrics without backpropagation. After all batches are done,\n",
    "    # average those numbers to see how well your model is really doing!\n",
    "    # Hint: What pieces from the training loop can we skip during evaluation?\n",
    "\n",
    "    with torch.no_grad():  # Disable gradient computation for validation\n",
    "    #### YOUR CODE HERE ####\n",
    "        for X_val, Y_val in ???\n",
    "            val_preds = ???\n",
    "            # Compute validation loss\n",
    "            val_loss += ???\n",
    "            # Compute validation accuracy\n",
    "            val_acc = ???\n",
    "            val_acc_total += ???\n",
    "    #### YOUR CODE HERE ####\n",
    "\n",
    "    avg_val_loss = val_loss / len(valloader)  # Average validation loss\n",
    "    avg_val_acc = val_acc_total / len(valloader)  # Average validation accuracy\n",
    "    val_loss_list.append(avg_val_loss)\n",
    "    val_acc_list.append(avg_val_acc)\n",
    "\n",
    "    if avg_val_acc > best_val_acc:\n",
    "      best_val_acc = avg_val_acc\n",
    "      checkpoint = {\n",
    "          'epoch': epoch + 1,\n",
    "          'model_state_dict': net.state_dict(),\n",
    "          'optimizer_state_dict': optimizer.state_dict(),\n",
    "          'train_loss_list': train_loss_list,\n",
    "          'train_acc_list': train_acc_list,\n",
    "          'val_loss_list': val_loss_list,\n",
    "          'val_acc_list': val_acc_list,\n",
    "          'best_val_acc': best_val_acc,\n",
    "      }\n",
    "      save_checkpoint(checkpoint, filename=os.path.join(checkpoint_dir, f'best_model_epoch_{epoch + 1}.pth'))\n",
    "\n",
    "    # Print training and validation loss and accuracy at the end of each epoch\n",
    "    print(f'Epoch [{epoch + 1}/{EPOCHS}], Train Loss: {avg_train_loss:.4f}, Train Accuracy: {avg_train_acc * 100:.2f}%, '\n",
    "          f'Validation Loss: {avg_val_loss:.4f}, Validation Accuracy: {avg_val_acc * 100:.2f}%')\n"
   ],
   "metadata": {
    "colab": {
     "base_uri": "https://localhost:8080/"
    },
    "id": "-S4DXnUZsPFA",
    "outputId": "30c6f4c9-24a8-4119-e873-d2fcd78575cd",
    "pycharm": {
     "name": "#%%\n"
    },
    "ExecuteTime": {
     "end_time": "2024-10-23T03:55:49.861439Z",
     "start_time": "2024-10-23T03:55:39.604775Z"
    }
   },
   "outputs": [
    {
     "output_type": "stream",
     "name": "stdout",
     "text": [
      "Saving checkpoint to ./checkpoints/best_model_epoch_1.pth ...\n",
      "Epoch [1/20], Train Loss: 0.5523, Train Accuracy: 81.29%, Validation Loss: 0.6024, Validation Accuracy: 79.14%\n",
      "Saving checkpoint to ./checkpoints/best_model_epoch_2.pth ...\n",
      "Epoch [2/20], Train Loss: 0.4993, Train Accuracy: 82.99%, Validation Loss: 0.5409, Validation Accuracy: 81.26%\n",
      "Epoch [3/20], Train Loss: 0.4679, Train Accuracy: 84.10%, Validation Loss: 0.5525, Validation Accuracy: 81.22%\n",
      "Saving checkpoint to ./checkpoints/best_model_epoch_4.pth ...\n",
      "Epoch [4/20], Train Loss: 0.4310, Train Accuracy: 85.34%, Validation Loss: 0.5360, Validation Accuracy: 81.41%\n",
      "Saving checkpoint to ./checkpoints/best_model_epoch_5.pth ...\n",
      "Epoch [5/20], Train Loss: 0.4104, Train Accuracy: 85.98%, Validation Loss: 0.5307, Validation Accuracy: 82.06%\n",
      "Epoch [6/20], Train Loss: 0.3628, Train Accuracy: 87.46%, Validation Loss: 0.5605, Validation Accuracy: 80.51%\n",
      "Saving checkpoint to ./checkpoints/best_model_epoch_7.pth ...\n",
      "Epoch [7/20], Train Loss: 0.3481, Train Accuracy: 87.91%, Validation Loss: 0.4988, Validation Accuracy: 82.46%\n",
      "Saving checkpoint to ./checkpoints/best_model_epoch_8.pth ...\n",
      "Epoch [8/20], Train Loss: 0.3135, Train Accuracy: 89.37%, Validation Loss: 0.5084, Validation Accuracy: 82.62%\n",
      "Epoch [9/20], Train Loss: 0.3033, Train Accuracy: 89.65%, Validation Loss: 0.5192, Validation Accuracy: 81.82%\n",
      "Epoch [10/20], Train Loss: 0.2813, Train Accuracy: 90.25%, Validation Loss: 0.5655, Validation Accuracy: 81.04%\n",
      "Saving checkpoint to ./checkpoints/best_model_epoch_11.pth ...\n",
      "Epoch [11/20], Train Loss: 0.2556, Train Accuracy: 91.21%, Validation Loss: 0.5203, Validation Accuracy: 83.13%\n",
      "Saving checkpoint to ./checkpoints/best_model_epoch_12.pth ...\n",
      "Epoch [12/20], Train Loss: 0.2330, Train Accuracy: 92.04%, Validation Loss: 0.5080, Validation Accuracy: 83.22%\n",
      "Epoch [13/20], Train Loss: 0.2146, Train Accuracy: 92.82%, Validation Loss: 0.5328, Validation Accuracy: 82.08%\n",
      "Epoch [14/20], Train Loss: 0.2011, Train Accuracy: 93.23%, Validation Loss: 0.5713, Validation Accuracy: 81.82%\n",
      "Saving checkpoint to ./checkpoints/best_model_epoch_15.pth ...\n",
      "Epoch [15/20], Train Loss: 0.1826, Train Accuracy: 93.88%, Validation Loss: 0.5162, Validation Accuracy: 83.56%\n",
      "Epoch [16/20], Train Loss: 0.1613, Train Accuracy: 94.72%, Validation Loss: 0.5694, Validation Accuracy: 82.37%\n",
      "Saving checkpoint to ./checkpoints/best_model_epoch_17.pth ...\n",
      "Epoch [17/20], Train Loss: 0.1534, Train Accuracy: 94.91%, Validation Loss: 0.5061, Validation Accuracy: 83.96%\n",
      "Saving checkpoint to ./checkpoints/best_model_epoch_18.pth ...\n",
      "Epoch [18/20], Train Loss: 0.1218, Train Accuracy: 96.18%, Validation Loss: 0.5244, Validation Accuracy: 84.14%\n",
      "Saving checkpoint to ./checkpoints/best_model_epoch_19.pth ...\n",
      "Epoch [19/20], Train Loss: 0.1172, Train Accuracy: 96.27%, Validation Loss: 0.5175, Validation Accuracy: 84.37%\n",
      "Saving checkpoint to ./checkpoints/best_model_epoch_20.pth ...\n",
      "Epoch [20/20], Train Loss: 0.1012, Train Accuracy: 96.93%, Validation Loss: 0.5321, Validation Accuracy: 84.46%\n"
     ]
    }
   ],
   "execution_count": 72
  },
  {
   "cell_type": "code",
   "source": [
    "# Plot loss\n",
    "plt.figure(figsize=(10,5))\n",
    "plt.plot(train_loss_list, label='Train Loss')\n",
    "plt.plot(val_loss_list, label='Validation Loss')\n",
    "plt.title('Loss during Training and Validation')\n",
    "plt.xlabel('Epochs')\n",
    "plt.ylabel('Loss')\n",
    "plt.legend()\n",
    "plt.show()\n",
    "\n",
    "# Plot accuracy\n",
    "plt.figure(figsize=(10,5))\n",
    "plt.plot(train_acc_list, label='Train Accuracy')\n",
    "plt.plot(val_acc_list, label='Validation Accuracy')\n",
    "plt.title('Accuracy during Training and Validation')\n",
    "plt.xlabel('Epochs')\n",
    "plt.ylabel('Accuracy')\n",
    "plt.legend()\n",
    "plt.show()"
   ],
   "metadata": {
    "id": "kkLt5aQ2smy5",
    "colab": {
     "base_uri": "https://localhost:8080/",
     "height": 957
    },
    "outputId": "ef2165bc-a48a-43a7-8306-927acd65daba",
    "pycharm": {
     "name": "#%%\n"
    },
    "ExecuteTime": {
     "end_time": "2024-10-23T03:54:07.405353Z",
     "start_time": "2024-10-23T03:54:07.405244Z"
    }
   },
   "outputs": [
    {
     "output_type": "display_data",
     "data": {
      "text/plain": [
       "<Figure size 1000x500 with 1 Axes>"
      ],
      "image/png": "[encoded data removed]"
     },
     "metadata": {}
    },
    {
     "output_type": "display_data",
     "data": {
      "text/plain": [
       "<Figure size 1000x500 with 1 Axes>"
      ],
      "image/png": "[encoded data removed]"
     },
     "metadata": {}
    }
   ],
   "execution_count": 19
  },
  {
   "cell_type": "markdown",
   "source": [
    "# Inference testing data"
   ],
   "metadata": {
    "id": "9kHSAUEvAJKd",
    "pycharm": {
     "name": "#%% md\n"
    }
   }
  },
  {
   "cell_type": "code",
   "source": [
    "# checkpoint = torch.load('/content/checkpoints/best_model_epoch_59.pth')\n",
    "# net.load_state_dict(checkpoint['model_state_dict'])"
   ],
   "metadata": {
    "id": "uGlXkMBosOZ-",
    "pycharm": {
     "name": "#%%\n"
    }
   },
   "outputs": [],
   "execution_count": null
  },
  {
   "cell_type": "code",
   "source": [
    "net.eval()\n",
    "\n",
    "# To store the overall accuracy\n",
    "total_correct = 0\n",
    "total_samples = 0\n",
    "\n",
    "# Disable gradient computation for inference\n",
    "with torch.no_grad():\n",
    "    for images, labels in testloader:  # Iterate through the test set\n",
    "    #### NOW IS THE SIMPLE PART: WRITE YOUR OWN CODE FOR CALCULATING THE TESTING ACCURACY\n",
    "    #### YOUR CODE HERE ####\n",
    "        # Forward pass (inference)\n",
    "        # Get predictions (class with the highest score)\n",
    "        # Accumulate total correct predictions\n",
    "        total_correct += ???\n",
    "        total_samples += ???\n",
    "    #### YOUR CODE HERE ####\n",
    "\n",
    "# Calculate accuracy\n",
    "accuracy = total_correct / total_samples * 100\n",
    "print(f'Test Accuracy: {accuracy:.2f}%')\n"
   ],
   "metadata": {
    "id": "hXbKSlLN_6iv",
    "colab": {
     "base_uri": "https://localhost:8080/"
    },
    "outputId": "5a6fdeee-a44a-4425-abe2-a4f2fa052927",
    "pycharm": {
     "name": "#%%\n"
    }
   },
   "outputs": [
    {
     "output_type": "stream",
     "name": "stdout",
     "text": [
      "Test Accuracy: 78.77%\n"
     ]
    }
   ],
   "execution_count": 20
  },
  {
   "cell_type": "markdown",
   "source": [
    "# Gradcam"
   ],
   "metadata": {
    "id": "xk_YB_JcA6J6",
    "pycharm": {
     "name": "#%% md\n"
    }
   }
  },
  {
   "cell_type": "code",
   "source": [
    "!pip install torchcam"
   ],
   "metadata": {
    "id": "SXLZCuKJA_NG",
    "colab": {
     "base_uri": "https://localhost:8080/"
    },
    "outputId": "df5054ed-18f1-41d8-82d5-a20e0ee8b33c",
    "pycharm": {
     "name": "#%%\n"
    }
   },
   "outputs": [
    {
     "output_type": "stream",
     "name": "stdout",
     "text": [
      "Requirement already satisfied: torchcam in /usr/local/lib/python3.10/dist-packages (0.4.0)\n",
      "Requirement already satisfied: torch<3.0.0,>=2.0.0 in /usr/local/lib/python3.10/dist-packages (from torchcam) (2.4.1+cu121)\n",
      "Requirement already satisfied: numpy<2.0.0,>=1.17.2 in /usr/local/lib/python3.10/dist-packages (from torchcam) (1.26.4)\n",
      "Requirement already satisfied: Pillow!=9.2.0,>=8.4.0 in /usr/local/lib/python3.10/dist-packages (from torchcam) (10.4.0)\n",
      "Requirement already satisfied: matplotlib<4.0.0,>=3.7.0 in /usr/local/lib/python3.10/dist-packages (from torchcam) (3.7.1)\n",
      "Requirement already satisfied: contourpy>=1.0.1 in /usr/local/lib/python3.10/dist-packages (from matplotlib<4.0.0,>=3.7.0->torchcam) (1.3.0)\n",
      "Requirement already satisfied: cycler>=0.10 in /usr/local/lib/python3.10/dist-packages (from matplotlib<4.0.0,>=3.7.0->torchcam) (0.12.1)\n",
      "Requirement already satisfied: fonttools>=4.22.0 in /usr/local/lib/python3.10/dist-packages (from matplotlib<4.0.0,>=3.7.0->torchcam) (4.54.1)\n",
      "Requirement already satisfied: kiwisolver>=1.0.1 in /usr/local/lib/python3.10/dist-packages (from matplotlib<4.0.0,>=3.7.0->torchcam) (1.4.7)\n",
      "Requirement already satisfied: packaging>=20.0 in /usr/local/lib/python3.10/dist-packages (from matplotlib<4.0.0,>=3.7.0->torchcam) (24.1)\n",
      "Requirement already satisfied: pyparsing>=2.3.1 in /usr/local/lib/python3.10/dist-packages (from matplotlib<4.0.0,>=3.7.0->torchcam) (3.2.0)\n",
      "Requirement already satisfied: python-dateutil>=2.7 in /usr/local/lib/python3.10/dist-packages (from matplotlib<4.0.0,>=3.7.0->torchcam) (2.8.2)\n",
      "Requirement already satisfied: filelock in /usr/local/lib/python3.10/dist-packages (from torch<3.0.0,>=2.0.0->torchcam) (3.16.1)\n",
      "Requirement already satisfied: typing-extensions>=4.8.0 in /usr/local/lib/python3.10/dist-packages (from torch<3.0.0,>=2.0.0->torchcam) (4.12.2)\n",
      "Requirement already satisfied: sympy in /usr/local/lib/python3.10/dist-packages (from torch<3.0.0,>=2.0.0->torchcam) (1.13.3)\n",
      "Requirement already satisfied: networkx in /usr/local/lib/python3.10/dist-packages (from torch<3.0.0,>=2.0.0->torchcam) (3.4.1)\n",
      "Requirement already satisfied: jinja2 in /usr/local/lib/python3.10/dist-packages (from torch<3.0.0,>=2.0.0->torchcam) (3.1.4)\n",
      "Requirement already satisfied: fsspec in /usr/local/lib/python3.10/dist-packages (from torch<3.0.0,>=2.0.0->torchcam) (2024.6.1)\n",
      "Requirement already satisfied: six>=1.5 in /usr/local/lib/python3.10/dist-packages (from python-dateutil>=2.7->matplotlib<4.0.0,>=3.7.0->torchcam) (1.16.0)\n",
      "Requirement already satisfied: MarkupSafe>=2.0 in /usr/local/lib/python3.10/dist-packages (from jinja2->torch<3.0.0,>=2.0.0->torchcam) (3.0.2)\n",
      "Requirement already satisfied: mpmath<1.4,>=1.1.0 in /usr/local/lib/python3.10/dist-packages (from sympy->torch<3.0.0,>=2.0.0->torchcam) (1.3.0)\n"
     ]
    }
   ],
   "execution_count": 22
  },
  {
   "cell_type": "code",
   "source": [
    "import torch\n",
    "import torch.nn.functional as F\n",
    "import matplotlib.pyplot as plt\n",
    "from torchcam.methods import GradCAM\n",
    "from torchcam.utils import overlay_mask\n",
    "from torchvision.transforms.functional import to_pil_image\n",
    "import torch.nn as nn\n",
    "\n",
    "def unnormalize(tensor, mean=(0.5, 0.5, 0.5), std=(0.5, 0.5, 0.5)):\n",
    "    mean = torch.tensor(mean).to(tensor.device).view(-1, 1, 1)\n",
    "    std = torch.tensor(std).to(tensor.device).view(-1, 1, 1)\n",
    "    tensor = tensor * std + mean\n",
    "    return tensor\n",
    "\n",
    "net.train()\n",
    "for module in net.modules():\n",
    "    if isinstance(module, nn.BatchNorm2d):\n",
    "        module.eval()\n",
    "\n",
    "for module in net.modules():\n",
    "    if isinstance(module, nn.Dropout):\n",
    "        module.p = 0\n",
    "\n",
    "cam_extractor = GradCAM(net, target_layer=net.features[4])\n",
    "\n",
    "data_iter = iter(testloader)\n",
    "images, labels = next(data_iter)\n",
    "\n",
    "images, labels = testset.__getitem__(np.random.randint(100))\n",
    "\n",
    "images = images.unsqueeze(0).to(device)\n",
    "images.requires_grad = True\n",
    "\n",
    "outputs = net(images)\n",
    "_, predicted = torch.max(outputs, 1)\n",
    "class_idx = predicted[0].item()\n",
    "\n",
    "output = outputs[0].unsqueeze(0)\n",
    "\n",
    "activation_map = cam_extractor(class_idx, output)\n",
    "\n",
    "activation_map = activation_map[0]\n",
    "\n",
    "if activation_map.dim() == 3:\n",
    "    activation_map = activation_map.mean(dim=0)\n",
    "\n",
    "activation_map = F.interpolate(activation_map.unsqueeze(0).unsqueeze(0), size=(32, 32), mode='bilinear', align_corners=False)\n",
    "activation_map = activation_map.squeeze(0).squeeze(0)\n",
    "activation_map = activation_map - activation_map.min()\n",
    "activation_map = activation_map / (activation_map.max() - activation_map.min() + 1e-8)\n",
    "\n",
    "activation_map_pil = to_pil_image(activation_map.cpu(), mode='F')\n",
    "image_pil = to_pil_image(unnormalize(images[0].cpu()))\n",
    "\n",
    "result = overlay_mask(image_pil, activation_map_pil, alpha=0.5)\n",
    "\n",
    "plt.figure(figsize=(15, 5))\n",
    "\n",
    "plt.subplot(1, 3, 1)\n",
    "plt.imshow(image_pil)\n",
    "plt.title('Original Image')\n",
    "plt.axis('off')\n",
    "\n",
    "plt.subplot(1, 3, 2)\n",
    "plt.imshow(activation_map.cpu(), cmap='jet')\n",
    "plt.title('Grad-CAM Heatmap')\n",
    "plt.axis('off')\n",
    "\n",
    "plt.subplot(1, 3, 3)\n",
    "plt.imshow(result)\n",
    "plt.title(f'Grad-CAM: Predicted {cifar10_labels[class_idx]}')\n",
    "plt.axis('off')\n",
    "\n",
    "plt.show()\n"
   ],
   "metadata": {
    "colab": {
     "base_uri": "https://localhost:8080/",
     "height": 401
    },
    "id": "uzAVThb5jgHR",
    "outputId": "dafa8d52-d346-4907-a1c3-82132282a435",
    "pycharm": {
     "name": "#%%\n"
    }
   },
   "outputs": [
    {
     "output_type": "display_data",
     "data": {
      "text/plain": [
       "<Figure size 1500x500 with 3 Axes>"
      ],
      "image/png": "[encoded data removed]"
     },
     "metadata": {}
    }
   ],
   "execution_count": 75
  },
  {
   "cell_type": "code",
   "source": [],
   "metadata": {
    "id": "IYn2D_cDvJen",
    "pycharm": {
     "name": "#%%\n"
    }
   },
   "execution_count": null,
   "outputs": []
  },
  {
   "cell_type": "code",
   "source": [],
   "metadata": {
    "id": "OcjMv8a-vJuw",
    "pycharm": {
     "name": "#%%\n"
    }
   },
   "execution_count": null,
   "outputs": []
  },
  {
   "metadata": {
    "id": "gQGIU9HahYCQ",
    "pycharm": {
     "name": "#%%\n"
    }
   },
   "cell_type": "code",
   "source": [],
   "outputs": [],
   "execution_count": null
  }
 ]
}